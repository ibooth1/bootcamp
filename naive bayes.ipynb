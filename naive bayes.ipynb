{
  "cells": [
    {
      "metadata": {
        "trusted": true
      },
      "cell_type": "code",
      "source": "#prob you can swim given you're...\np_s_p = 50/500\np_s_d = 450/500\np_s_f = 500/500\n#prob you have wings given you're...\np_w_p = 500/500\np_w_d = 0/500\np_w_f = 0/500\n#prob you are green given you're...\np_g_p = 0/500\np_g_d = 0/500\np_g_f = 100/500\n#prob you have dangerous teeth give you're...\np_t_p = 0/500\np_t_d = 500/500\np_t_f = 50/500\n\np_p = 500/1500\np_d = 500/1500\np_f = 500/1500",
      "execution_count": 2,
      "outputs": []
    },
    {
      "metadata": {
        "trusted": true
      },
      "cell_type": "code",
      "source": "import pandas as pd\ndef computeBayes(s, w, g, t, animaltype):\n    return s * w * g * t * animaltype\n\n# Swim, No Wings, Not Green, Teeth\np_snwngt_parrot = computeBayes(p_s_p, (1-p_w_p), (1-p_g_p), (p_t_p), p_p)\n#if for a dog\np_snwngt_dog = computeBayes(p_s_d, (1-p_w_d), (1-p_g_d), (p_t_d), p_d)\n#if for a fish\np_snwngt_fish = computeBayes(p_s_f, (1-p_w_f), (1-p_g_f), (p_t_f), p_f)\n\nprob = [p_snwngt_parrot, p_snwngt_dog,p_snwngt_fish]\nprob",
      "execution_count": 15,
      "outputs": [
        {
          "output_type": "execute_result",
          "execution_count": 15,
          "data": {
            "text/plain": "[0.0, 0.3, 0.026666666666666672]"
          },
          "metadata": {}
        }
      ]
    }
  ],
  "metadata": {
    "kernelspec": {
      "name": "python36",
      "display_name": "Python 3.6",
      "language": "python"
    },
    "language_info": {
      "mimetype": "text/x-python",
      "nbconvert_exporter": "python",
      "name": "python",
      "pygments_lexer": "ipython3",
      "version": "3.6.6",
      "file_extension": ".py",
      "codemirror_mode": {
        "version": 3,
        "name": "ipython"
      }
    }
  },
  "nbformat": 4,
  "nbformat_minor": 2
}